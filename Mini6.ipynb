{
 "cells": [
  {
   "cell_type": "markdown",
   "metadata": {},
   "source": [
    "# Universidad del Valle de Guatemala¶\n",
    "## Guatemala 11 de noviembre de 2020\n",
    "## Modelacion y Simulacion\n",
    "### Luis Esturban 17256\n",
    "### MiniProyecto 6"
   ]
  },
  {
   "cell_type": "code",
   "execution_count": 2,
   "metadata": {},
   "outputs": [],
   "source": [
    "#Se importan las librerias necesarias\n",
    "import numpy as np\n",
    "from itertools import combinations"
   ]
  },
  {
   "cell_type": "code",
   "execution_count": 7,
   "metadata": {},
   "outputs": [],
   "source": [
    "#Funcion encargada de generar las poblaciones\n",
    "def Pgen(li, ls, cond):\n",
    "    pob = []\n",
    "    for x in range(10000):\n",
    "        x1 = np.random.randint(li,ls)\n",
    "        x2 = np.random.randint(li,ls)\n",
    "        if cond(x1,x2):\n",
    "            a = np.array([x1,x2])\n",
    "            pob.append(a)\n",
    "    return pob\n",
    "#Funcion que decide cuando es mejor terminar la simulacion\n",
    "def endS(pob, fit):\n",
    "    arr = []\n",
    "    for x in pob:\n",
    "        temp = fit(x[0],x[1])\n",
    "        arr.append(temp)\n",
    "    arr.sort(reverse = True)\n",
    "    return arr[0]\n",
    "#Funcion que se encarga de evaluar los mejores individios\n",
    "def valuate(pob, fit):\n",
    "    pnts = []\n",
    "    for x in pob:\n",
    "        temp = fit(x[0],x[1])\n",
    "        pnts.append(temp) \n",
    "    return pnts\n",
    "#Funcion que contiene el algoritmo genetico\n",
    "def genetics(pob, fit, cond, cond2):\n",
    "    cont = 0\n",
    "    while cont != 1000:\n",
    "        ncrom = valuate(pob, fit)\n",
    "        pnts = list.copy(ncrom)\n",
    "        ncrom.sort(reverse=True)\n",
    "        if ncrom[0] > cond2:\n",
    "            cond2 = ncrom[0]\n",
    "        elif ncrom[0] == cond2:\n",
    "            cont = cont + 1\n",
    "        p1 = pnts.index(ncrom[0])\n",
    "        p2 = pnts.index(ncrom[1])\n",
    "        np1 = pob[p1]\n",
    "        np2 = pob[p2]\n",
    "        prn = np.concatenate((np1, np2))\n",
    "        defi = combinations(prn,2)\n",
    "        pob = []\n",
    "        pob.append(np1)\n",
    "        pob.append(np2)\n",
    "        for x in list(defi):\n",
    "            arrdefi = np.array(x)\n",
    "            prnd = np.random.randint(0,2)\n",
    "            mut = np.random.uniform()\n",
    "            if mut > 0.80:\n",
    "                arrdefi[prnd] = arrdefi[prnd] + 1\n",
    "            if cond(arrdefi[0],arrdefi[1]):\n",
    "                pob.append(arrdefi)\n",
    "    return pob[0], cond2"
   ]
  },
  {
   "cell_type": "code",
   "execution_count": 24,
   "metadata": {},
   "outputs": [
    {
     "name": "stdout",
     "output_type": "stream",
     "text": [
      "Resultado de la primera ecuacion\n",
      "x: 12 Y: 9 R: 270\n",
      "Resultado de la segunda ecuacion\n",
      "x: 2 Y: 6 R: 36\n",
      "Resultado de la tercera ecuacion\n",
      "x: 1 Y: 1 R: 10\n"
     ]
    }
   ],
   "source": [
    "#Ecuaciones dadas\n",
    "def fit1(x1, x2):\n",
    "    return 15*x1 + 30*x2 + 4*x1*x2 - 2*x1**2 - 4*x2**2\n",
    "def fit2(x1, x2):\n",
    "    return 3*x1 + 5*x2\n",
    "def fit3(x1, x2):\n",
    "    return 5*x1 - x1**2 + 8*x2 - 2*x2**2\n",
    "#Condiciones a cumplir\n",
    "def cond1(x1, x2):\n",
    "    if x1 + 2*x2 <= 30:\n",
    "        return True\n",
    "    else:\n",
    "        return False\n",
    "def cond2(x1, x2):\n",
    "    if 3*x1 + 2*x2 <= 18:\n",
    "        return True\n",
    "    else:\n",
    "        return False\n",
    "def cond3(x1, x2):\n",
    "    if 3*x1 + 2*x2 <= 6:\n",
    "        return True\n",
    "    else:\n",
    "        return False\n",
    "pob = [Pgen(0, 30, cond1),Pgen(0, 6, cond2),Pgen(0, 6, cond3)]\n",
    "mfit = [endS(pob[0], fit1),endS(pob[1], fit2),endS(pob[2], fit3)]\n",
    "coords1, rel1 = genetics(pob[0], fit1, cond1, mfit[0])\n",
    "coords2, rel2 = genetics(pob[1], fit2, cond2, mfit[1])\n",
    "coords3, rel3 = genetics(pob[2], fit3, cond3, mfit[2])\n",
    "print(\"Resultado de la primera ecuacion\")\n",
    "print(\"x:\",coords1[0],\"Y:\",coords1[1], \"R:\",rel1)\n",
    "print(\"Resultado de la segunda ecuacion\")\n",
    "print(\"x:\",coords2[0],\"Y:\",coords2[1], \"R:\",rel2)\n",
    "print(\"Resultado de la tercera ecuacion\")\n",
    "print(\"x:\",coords3[0],\"Y:\",coords3[1], \"R:\",rel3)"
   ]
  }
 ],
 "metadata": {
  "kernelspec": {
   "display_name": "Python 3",
   "language": "python",
   "name": "python3"
  },
  "language_info": {
   "codemirror_mode": {
    "name": "ipython",
    "version": 3
   },
   "file_extension": ".py",
   "mimetype": "text/x-python",
   "name": "python",
   "nbconvert_exporter": "python",
   "pygments_lexer": "ipython3",
   "version": "3.8.2"
  }
 },
 "nbformat": 4,
 "nbformat_minor": 4
}
